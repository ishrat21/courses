{
 "cells": [
  {
   "cell_type": "markdown",
   "metadata": {},
   "source": [
    "<h1>Testing Notebook</h1>\n",
    "\n",
    "<p>I will be using this notebook to test some code in python</p>"
   ]
  },
  {
   "cell_type": "code",
   "execution_count": null,
   "metadata": {},
   "outputs": [
    {
     "name": "stdout",
     "output_type": "stream",
     "text": [
      "hello world\n"
     ]
    }
   ],
   "source": [
    "print ('hello world')"
   ]
  },
  {
   "cell_type": "code",
   "execution_count": 1,
   "metadata": {},
   "outputs": [
    {
     "name": "stdout",
     "output_type": "stream",
     "text": [
      "Original DataFrame:\n",
      "  Product  Quantity  Price\n",
      "0   Apple        10    1.0\n",
      "1  Banana         5    0.5\n",
      "2  Orange         8    0.8\n",
      "3  Grapes        15    1.2\n",
      "\n",
      "Sliced DataFrame (rows 1 to 3):\n",
      "  Product  Quantity  Price\n",
      "1  Banana         5    0.5\n",
      "2  Orange         8    0.8\n",
      "\n",
      "Sliced DataFrame using loc (rows 1 to 2):\n",
      "  Product  Quantity  Price\n",
      "1  Banana         5    0.5\n",
      "2  Orange         8    0.8\n",
      "\n",
      "Sliced DataFrame (columns 1 to 2):\n",
      "   Quantity  Price\n",
      "0        10    1.0\n",
      "1         5    0.5\n",
      "2         8    0.8\n",
      "3        15    1.2\n",
      "\n",
      "Sliced DataFrame using loc (columns 'Quantity' to 'Price'):\n",
      "   Quantity  Price\n",
      "0        10    1.0\n",
      "1         5    0.5\n",
      "2         8    0.8\n",
      "3        15    1.2\n",
      "\n",
      "Sliced DataFrame (rows 1 to 2, columns 0 to 1):\n",
      "  Product  Quantity\n",
      "1  Banana         5\n",
      "2  Orange         8\n",
      "\n",
      "Sliced DataFrame using loc (rows 1 to 2, columns 'Product' to 'Quantity'):\n",
      "  Product  Quantity\n",
      "1  Banana         5\n",
      "2  Orange         8\n",
      "\n",
      "Reversed DataFrame:\n",
      "  Product  Quantity  Price\n",
      "3  Grapes        15    1.2\n",
      "2  Orange         8    0.8\n",
      "1  Banana         5    0.5\n",
      "0   Apple        10    1.0\n",
      "\n",
      "Every other row:\n",
      "  Product  Quantity  Price\n",
      "0   Apple        10    1.0\n",
      "2  Orange         8    0.8\n"
     ]
    }
   ],
   "source": [
    "import pandas as pd\n",
    "\n",
    "# Create a sample DataFrame\n",
    "data = {\n",
    "    'Product': ['Apple', 'Banana', 'Orange', 'Grapes'],\n",
    "    'Quantity': [10, 5, 8, 15],\n",
    "    'Price': [1.0, 0.5, 0.8, 1.2]\n",
    "}\n",
    "\n",
    "df = pd.DataFrame(data)\n",
    "\n",
    "# Display the original DataFrame\n",
    "print(\"Original DataFrame:\")\n",
    "print(df)\n"
   ]
  },
  {
   "cell_type": "code",
   "execution_count": null,
   "metadata": {},
   "outputs": [],
   "source": []
  }
 ],
 "metadata": {
  "kernelspec": {
   "display_name": "project",
   "language": "python",
   "name": "python3"
  },
  "language_info": {
   "codemirror_mode": {
    "name": "ipython",
    "version": 3
   },
   "file_extension": ".py",
   "mimetype": "text/x-python",
   "name": "python",
   "nbconvert_exporter": "python",
   "pygments_lexer": "ipython3",
   "version": "3.11.9"
  }
 },
 "nbformat": 4,
 "nbformat_minor": 2
}
